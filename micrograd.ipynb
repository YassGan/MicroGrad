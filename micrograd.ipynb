{
  "nbformat": 4,
  "nbformat_minor": 0,
  "metadata": {
    "colab": {
      "provenance": [],
      "authorship_tag": "ABX9TyOJ4BFDpEw9dBkrHDdW9tfk",
      "include_colab_link": true
    },
    "kernelspec": {
      "name": "python3",
      "display_name": "Python 3"
    },
    "language_info": {
      "name": "python"
    }
  },
  "cells": [
    {
      "cell_type": "markdown",
      "metadata": {
        "id": "view-in-github",
        "colab_type": "text"
      },
      "source": [
        "<a href=\"https://colab.research.google.com/github/YassGan/MicroGrad/blob/main/micrograd.ipynb\" target=\"_parent\"><img src=\"https://colab.research.google.com/assets/colab-badge.svg\" alt=\"Open In Colab\"/></a>"
      ]
    },
    {
      "cell_type": "code",
      "source": [
        "import math\n",
        "import numpy as np\n",
        "import matplotlib.pyplot as plt\n"
      ],
      "metadata": {
        "id": "71Xdeh3vvO1u"
      },
      "execution_count": 1386,
      "outputs": []
    },
    {
      "cell_type": "code",
      "source": [
        "def f(x):\n",
        "  return 3*x**2 - 4*x + 1"
      ],
      "metadata": {
        "id": "_LLIZ0ymvYRV"
      },
      "execution_count": 1387,
      "outputs": []
    },
    {
      "cell_type": "code",
      "execution_count": 1388,
      "metadata": {
        "id": "fJnAf4d8tpNb"
      },
      "outputs": [],
      "source": [
        "xs=np.arange(-6,6,0.25)\n",
        "\n",
        "xy=[]\n",
        "for x in xs:\n",
        "  xy.append(f(x))\n",
        "\n"
      ]
    },
    {
      "cell_type": "code",
      "source": [
        "class Value:\n",
        "  def __init__(self, data, _children=(),_op=\"\",label=\"\"):\n",
        "    self.data = data\n",
        "    self._prev=set(_children)\n",
        "    self._op=_op\n",
        "    self.grad=0.0\n",
        "    self.label=label\n",
        "    self.grad=0\n",
        "    self._backward=lambda:None\n",
        "\n",
        "\n",
        "\n",
        "\n",
        "  def __repr__(self):\n",
        "    return f'Value  {self.data}'\n",
        "\n",
        "\n",
        "\n",
        "\n",
        "\n",
        "  def __add__(self,other):\n",
        "    other = other if isinstance(other, Value) else Value(other)\n",
        "    out=Value(self.data+other.data,(self,other),'+')\n",
        "\n",
        "    def _backward():\n",
        "      self.grad+=1.0*out.grad\n",
        "      other.grad+=1.0*out.grad\n",
        "    out._backward=_backward\n",
        "    return out\n",
        "\n",
        "  def __sub__(self, other): # self - other\n",
        "      other = other if isinstance(other, Value) else Value(other)\n",
        "      out = Value(self.data - other.data, (self, other), '-')\n",
        "      def _backward():\n",
        "          self.grad += 1.0 * out.grad\n",
        "          other.grad -= 1.0 * out.grad\n",
        "      out._backward = _backward\n",
        "      return out\n",
        "\n",
        "\n",
        "  def __mul__(self,other):\n",
        "    other = other if isinstance(other, Value) else Value(other)\n",
        "    out=Value(self.data*other.data,(self,other),'*')\n",
        "\n",
        "    def _backward():\n",
        "      self.grad+=other.data*out.grad\n",
        "      other.grad+=self.data*out.grad\n",
        "    out._backward=_backward\n",
        "    return out\n",
        "\n",
        "  def __rmul__(self, other): # other * self\n",
        "    return self * other\n",
        "\n",
        "  def __pow__(self, other):\n",
        "      assert isinstance(other, (int, float)), \"only supporting int/float powers for now\"\n",
        "      out = Value(self.data**other, (self,), f'**{other}')\n",
        "\n",
        "      def _backward():\n",
        "          self.grad += other * (self.data**(other-1)) * out.grad\n",
        "      out._backward = _backward\n",
        "\n",
        "      return out\n",
        "\n",
        "\n",
        "  def tanh(self):\n",
        "    x=self.data\n",
        "    t=(math.exp(2*x)-1)/(math.exp(2*x)+1)\n",
        "    out= Value(t,(self,),'tanh')\n",
        "\n",
        "    def _backward():\n",
        "      self.grad+=(1-t**2)*out.grad\n",
        "    out._backward=_backward\n",
        "    return out\n",
        "\n",
        "  def backward(self):\n",
        "    topo = []\n",
        "    visited = set()\n",
        "    def build_topo(v):\n",
        "      if v not in visited:\n",
        "        visited.add(v)\n",
        "        for child in v._prev:\n",
        "          build_topo(child)\n",
        "        topo.append(v)\n",
        "    build_topo(self)\n",
        "    self.grad=1\n",
        "    for node in reversed (topo):\n",
        "      node._backward()"
      ],
      "metadata": {
        "id": "hYnmjDVHvulE"
      },
      "execution_count": 1389,
      "outputs": []
    },
    {
      "cell_type": "code",
      "source": [
        "from graphviz import Digraph\n",
        "\n",
        "def trace(root):\n",
        "  # builds a set of all nodes and edges in a graph\n",
        "  nodes, edges = set(), set()\n",
        "  def build(v):\n",
        "    if v not in nodes:\n",
        "      nodes.add(v)\n",
        "      for child in v._prev:\n",
        "        edges.add((child, v))\n",
        "        build(child)\n",
        "  build(root)\n",
        "  return nodes, edges\n",
        "\n",
        "def draw_dot(root):\n",
        "  dot = Digraph(format='svg', graph_attr={'rankdir': 'LR'}) # LR = left to right\n",
        "\n",
        "  nodes, edges = trace(root)\n",
        "  for n in nodes:\n",
        "    uid = str(id(n))\n",
        "    # for any value in the graph, create a rectangular ('record') node for it\n",
        "    dot.node(name = uid, label = \"{ %s | data %.4f | grad %.4f }\" % (n.label, n.data, n.grad), shape='record')\n",
        "    if n._op:\n",
        "      # if this value is a result of some operation, create an op node for it\n",
        "      dot.node(name = uid + n._op, label = n._op)\n",
        "      # and connect this node to it\n",
        "      dot.edge(uid + n._op, uid)\n",
        "\n",
        "  for n1, n2 in edges:\n",
        "    # connect n1 to the op node of n2\n",
        "    dot.edge(str(id(n1)), str(id(n2)) + n2._op)\n",
        "\n",
        "  return dot"
      ],
      "metadata": {
        "id": "95G4WHys8HeC"
      },
      "execution_count": 1390,
      "outputs": []
    },
    {
      "cell_type": "code",
      "source": [
        "a = Value(2.0, label='a')\n",
        "b = Value(-3.0, label='b')\n",
        "c = Value(10.0, label='c')\n",
        "e = a*b; e.label = 'e'\n",
        "d = e + c; d.label = 'd'\n",
        "f = Value(-2.0, label='f')\n",
        "L = d * f; L.label = 'L'\n"
      ],
      "metadata": {
        "id": "9FjBrVbd8MLZ"
      },
      "execution_count": 1391,
      "outputs": []
    },
    {
      "cell_type": "code",
      "source": [
        "L.grad=1\n",
        "f.grad=d.data*L.grad\n",
        "d.grad=f.data*L.grad\n",
        "e.grad=d.grad*1\n",
        "c.grad=d.grad*1\n",
        "a.grad=b.data*e.grad\n",
        "b.grad=a.data*e.grad\n"
      ],
      "metadata": {
        "id": "BPcdsqbnAaMT"
      },
      "execution_count": 1392,
      "outputs": []
    },
    {
      "cell_type": "code",
      "source": [
        "# draw_dot(L)"
      ],
      "metadata": {
        "id": "TTbsmNef8bWN"
      },
      "execution_count": 1393,
      "outputs": []
    },
    {
      "cell_type": "code",
      "source": [
        "a.data+=0.01  *a.grad\n",
        "\n",
        "f.grad=d.data*L.grad\n",
        "d.grad=f.data*L.grad\n",
        "e.grad=d.grad*1\n",
        "c.grad=d.grad*1\n",
        "a.grad=b.data*e.grad\n",
        "b.grad=a.data*e.grad\n",
        "\n",
        "e.data=a.data*b.data\n",
        "d.data=e.data+c.data\n",
        "L.data=d.data*f.data"
      ],
      "metadata": {
        "id": "ItQEmyfhBRbl"
      },
      "execution_count": 1394,
      "outputs": []
    },
    {
      "cell_type": "code",
      "source": [
        "#inputs x1, x2\n",
        "x1=Value(2.0, label='x1')\n",
        "x2=Value(0.0, label='x2')\n",
        "\n",
        "#weights w1, w2\n",
        "w1=Value(-3.0, label='w1')\n",
        "w2=Value(1.0, label='w2')\n",
        "\n",
        "#bias of the neuron\n",
        "b=Value(6.8813735870195432, label='b')\n",
        "\n",
        "#x1*w1 + x2*w2 +b\n",
        "x1w1=x1*w1; x1w1.label=\"x1*w1\"\n",
        "x2w2=x2*w2; x2w2.label=\"x2*w2\"\n",
        "x1w1x2w2=x1w1+x2w2;x1w1x2w2.label=\" x1*w1 + x2*w2 \"\n",
        "n=x1w1x2w2+b; n.label='n'\n",
        "o=n.tanh(); o.label='o'\n",
        "\n"
      ],
      "metadata": {
        "id": "6-2_EIk3EJMe"
      },
      "execution_count": 1395,
      "outputs": []
    },
    {
      "cell_type": "code",
      "source": [
        "x1w1x2w2.grad=0.5\n",
        "b.grad=0.5\n",
        "x1w1.grad=0.5\n",
        "x2w2.grad=0.5\n",
        "\n",
        "x1.grad=w1.data*x1w1.grad\n",
        "w1.grad=x1.data*x1w1.grad\n",
        "x2.grad=w2.data*x2w2.grad\n",
        "w2.grad=x2.data*x2w2.grad\n"
      ],
      "metadata": {
        "id": "_RMzhCRtVVJb"
      },
      "execution_count": 1396,
      "outputs": []
    },
    {
      "cell_type": "code",
      "source": [
        "import torch\n",
        "import random"
      ],
      "metadata": {
        "id": "gwd8EgRYmLz-"
      },
      "execution_count": 1397,
      "outputs": []
    },
    {
      "cell_type": "code",
      "source": [
        "x1=torch.Tensor([2.0]).double() ;x1.requires_grad=True\n",
        "x2=torch.Tensor([0.0]).double() ;x2.requires_grad=True\n",
        "w1=torch.Tensor([-3.0]).double() ;w1.requires_grad=True\n",
        "w2=torch.Tensor([1.0]).double() ;w2.requires_grad=True\n",
        "b=torch.Tensor([6.8813735870195432]).double() ;b.requires_grad=True\n",
        "n=x1*w1+x2*w2+b\n",
        "o=torch.tanh(n)\n",
        "\n",
        "print(o.data.item())"
      ],
      "metadata": {
        "colab": {
          "base_uri": "https://localhost:8080/"
        },
        "id": "gO52artlmR2u",
        "outputId": "6512bbbc-cf98-422f-f310-6446a9f87513"
      },
      "execution_count": 1398,
      "outputs": [
        {
          "output_type": "stream",
          "name": "stdout",
          "text": [
            "0.7071066904050358\n"
          ]
        }
      ]
    },
    {
      "cell_type": "code",
      "source": [
        "class Neuron:\n",
        "  def __init__(self, nin):\n",
        "    self.w = [Value(random.uniform(-1,1)) for _ in range(nin)]\n",
        "    self.b = Value(random.uniform(-1,1))\n",
        "\n",
        "  def __call__(self,x):\n",
        "    # w * x + b\n",
        "    act = sum((wi*(xi) for wi,xi in zip(self.w,x)), self.b)\n",
        "    out = act.tanh()\n",
        "    return out\n",
        "\n",
        "  def parameters(self):\n",
        "    return self.w + [self.b]\n",
        "\n",
        "\n",
        "\n",
        "\n",
        "class Layer:\n",
        "  def __init__(self,nin,nout):\n",
        "    self.neurons=[Neuron(nin) for _ in range(nout)]\n",
        "\n",
        "  def __call__(self,x):\n",
        "    outs = [n(x) for n in self.neurons]\n",
        "    return outs[0] if len(outs)==1 else outs\n",
        "\n",
        "  def parameters(self):\n",
        "    return [p for neuron in self.neurons for p in neuron.parameters()]\n",
        "\n",
        "\n",
        "\n",
        "class MLP:\n",
        "  def __init__(self,nin,nouts):\n",
        "    sz=[nin]+nouts\n",
        "    self.layers=[Layer(sz[i],sz[i+1]) for i in range(len(nouts))]\n",
        "\n",
        "  def __call__(self,x):\n",
        "    for layer in self.layers:\n",
        "      x=layer(x)\n",
        "    return(x)\n",
        "\n",
        "  def parameters(self):\n",
        "    return [p for layer in self.layers for p in layer.parameters()]\n",
        "\n",
        "x=[2.0,3.0,-1.0]\n",
        "n=MLP(3,[4,4,1])\n",
        "n(x)"
      ],
      "metadata": {
        "colab": {
          "base_uri": "https://localhost:8080/"
        },
        "id": "ctyaw_J0FZe0",
        "outputId": "65313f02-0579-49f0-fd3c-9fc94108a011"
      },
      "execution_count": 1399,
      "outputs": [
        {
          "output_type": "execute_result",
          "data": {
            "text/plain": [
              "Value  -0.9392080733690684"
            ]
          },
          "metadata": {},
          "execution_count": 1399
        }
      ]
    },
    {
      "cell_type": "code",
      "source": [
        "xs = [\n",
        "    [2.0, 3.0, -1.0],\n",
        "    [3.0, -1.0, 0.5],\n",
        "    [0.5, 1.0, 1.0],\n",
        "    [1, 1, -1],\n",
        "]\n",
        "\n",
        "ys = [1, -1, -1, 1]\n",
        "\n",
        "n = MLP(3, [4, 4, 1])  # Use a unique name\n",
        "ypred = [n(x) for x in xs]\n",
        "print(ypred)\n"
      ],
      "metadata": {
        "colab": {
          "base_uri": "https://localhost:8080/"
        },
        "id": "KbA-Dw2BIW4N",
        "outputId": "e319af44-1413-41b4-ef56-3508093cadd5"
      },
      "execution_count": 1400,
      "outputs": [
        {
          "output_type": "stream",
          "name": "stdout",
          "text": [
            "[Value  -0.34266683775384454, Value  0.45789913225001505, Value  0.1262043668227203, Value  -0.15722196838506536]\n"
          ]
        }
      ]
    },
    {
      "cell_type": "code",
      "source": [
        "ypred = [n(x) for x in xs]\n",
        "\n",
        "loss=sum( ((yout-ygt)**2 for ygt, yout in zip(ys,ypred)), start=Value(0))\n",
        "\n",
        "loss"
      ],
      "metadata": {
        "colab": {
          "base_uri": "https://localhost:8080/"
        },
        "id": "Ar00iR_JfLRS",
        "outputId": "bb29c159-f0a0-4830-c578-3f533e0e2ead"
      },
      "execution_count": 1401,
      "outputs": [
        {
          "output_type": "execute_result",
          "data": {
            "text/plain": [
              "Value  6.5357230769828245"
            ]
          },
          "metadata": {},
          "execution_count": 1401
        }
      ]
    },
    {
      "cell_type": "code",
      "source": [
        "loss.backward()"
      ],
      "metadata": {
        "id": "v5JMsAtBh8jn"
      },
      "execution_count": 1402,
      "outputs": []
    },
    {
      "cell_type": "code",
      "source": [
        "n.layers[0].neurons[0].w[0].grad"
      ],
      "metadata": {
        "colab": {
          "base_uri": "https://localhost:8080/"
        },
        "id": "dA8bOXrOiKfp",
        "outputId": "37764638-6c4f-4e22-bd94-33fb62ca4010"
      },
      "execution_count": 1403,
      "outputs": [
        {
          "output_type": "execute_result",
          "data": {
            "text/plain": [
              "0.19121395295887167"
            ]
          },
          "metadata": {},
          "execution_count": 1403
        }
      ]
    },
    {
      "cell_type": "code",
      "source": [
        "n.layers[0].neurons[0].w[0].data"
      ],
      "metadata": {
        "colab": {
          "base_uri": "https://localhost:8080/"
        },
        "id": "IjMCkPvvpJUN",
        "outputId": "86381988-0cf1-4bcd-83b1-7f6b21479fc6"
      },
      "execution_count": 1404,
      "outputs": [
        {
          "output_type": "execute_result",
          "data": {
            "text/plain": [
              "0.4442913474129153"
            ]
          },
          "metadata": {},
          "execution_count": 1404
        }
      ]
    },
    {
      "cell_type": "code",
      "source": [
        "n.parameters()"
      ],
      "metadata": {
        "colab": {
          "base_uri": "https://localhost:8080/"
        },
        "id": "XDqQ37g4o4mt",
        "outputId": "cf9957b1-ea7b-448e-bce2-8cf04ac916ef"
      },
      "execution_count": 1405,
      "outputs": [
        {
          "output_type": "execute_result",
          "data": {
            "text/plain": [
              "[Value  0.4442913474129153,\n",
              " Value  -0.4128558654549841,\n",
              " Value  0.6849550761744967,\n",
              " Value  -0.14538904556798427,\n",
              " Value  -0.8569567812120065,\n",
              " Value  -0.9306617806235871,\n",
              " Value  -0.49809199573099905,\n",
              " Value  0.11004853305427753,\n",
              " Value  0.021365583053692072,\n",
              " Value  0.16472685280968768,\n",
              " Value  0.9517833061521068,\n",
              " Value  0.7893860363510743,\n",
              " Value  0.2455918680599143,\n",
              " Value  0.674452485165574,\n",
              " Value  -0.4025757912203176,\n",
              " Value  -0.7700095861837262,\n",
              " Value  0.013736615386383155,\n",
              " Value  0.19288972012438954,\n",
              " Value  0.6290415458906455,\n",
              " Value  0.3184842864540891,\n",
              " Value  -0.1844744664041329,\n",
              " Value  -0.4348086782466942,\n",
              " Value  -0.6280000516254765,\n",
              " Value  0.17155411863939962,\n",
              " Value  0.3398982742838643,\n",
              " Value  -0.24420509126362688,\n",
              " Value  -0.6575222445742874,\n",
              " Value  -0.3629966018911839,\n",
              " Value  0.5066294336672645,\n",
              " Value  0.41810797467256555,\n",
              " Value  0.7582700650521106,\n",
              " Value  -0.8558570070018721,\n",
              " Value  -0.7522020546466819,\n",
              " Value  -0.13596315037573037,\n",
              " Value  0.5095346826146572,\n",
              " Value  0.05922439205907959,\n",
              " Value  -0.2848336484163734,\n",
              " Value  -0.5567533669810198,\n",
              " Value  0.226534548705148,\n",
              " Value  -0.2393987596491054,\n",
              " Value  0.14546140931714846]"
            ]
          },
          "metadata": {},
          "execution_count": 1405
        }
      ]
    },
    {
      "cell_type": "code",
      "source": [
        "ypred = [n(x) for x in xs]\n",
        "\n",
        "loss=sum( ((yout-ygt)**2 for ygt, yout in zip(ys,ypred)), start=Value(0))\n",
        "\n",
        "loss"
      ],
      "metadata": {
        "colab": {
          "base_uri": "https://localhost:8080/"
        },
        "id": "Y2eIiqHMreOf",
        "outputId": "01e4c98f-1ca2-42b8-cd05-95df336c1550"
      },
      "execution_count": 1406,
      "outputs": [
        {
          "output_type": "execute_result",
          "data": {
            "text/plain": [
              "Value  6.5357230769828245"
            ]
          },
          "metadata": {},
          "execution_count": 1406
        }
      ]
    },
    {
      "cell_type": "code",
      "source": [
        "for k in range(50):\n",
        "  #forward pass\n",
        "  ypred=[n(x) for x in xs]\n",
        "  loss=sum( ((yout-ygt)**2 for ygt, yout in zip(ys,ypred)), start=Value(0))\n",
        "\n",
        "  #backward pass\n",
        "  for p in n.parameters():\n",
        "    p.grad=0\n",
        "  loss.backward()\n",
        "\n",
        "  #update\n",
        "  for p in n.parameters():\n",
        "    p.data+=-0.1*p.grad\n",
        "\n",
        "  print(k,loss.data)"
      ],
      "metadata": {
        "colab": {
          "base_uri": "https://localhost:8080/"
        },
        "id": "_ThAs0quuTLa",
        "outputId": "3fe5edd5-8c10-4e73-e486-9646c0b99c52"
      },
      "execution_count": 1407,
      "outputs": [
        {
          "output_type": "stream",
          "name": "stdout",
          "text": [
            "0 6.5357230769828245\n",
            "1 3.2282958579045973\n",
            "2 1.802645895404729\n",
            "3 0.7620652291820904\n",
            "4 0.0717466287739903\n",
            "5 0.058570184201350406\n",
            "6 0.04932934521249152\n",
            "7 0.04249592488815938\n",
            "8 0.03724617969122736\n",
            "9 0.03309361748571302\n",
            "10 0.029731826465630863\n",
            "11 0.02695816107165272\n",
            "12 0.024633303568429632\n",
            "13 0.022658383796849542\n",
            "14 0.020961345596458486\n",
            "15 0.019488471942637448\n",
            "16 0.018198926796004527\n",
            "17 0.017061131933771526\n",
            "18 0.016050298095265824\n",
            "19 0.015146703700775548\n",
            "20 0.014334470227940469\n",
            "21 0.013600675075955566\n",
            "22 0.012934698420889783\n",
            "23 0.012327735264181855\n",
            "24 0.01177242602548759\n",
            "25 0.011262573476553364\n",
            "26 0.010792923419158669\n",
            "27 0.010358993012631282\n",
            "28 0.009956935129766819\n",
            "29 0.009583430243508462\n",
            "30 0.009235599557876756\n",
            "31 0.008910934681881961\n",
            "32 0.008607240295132622\n",
            "33 0.00832258709727298\n",
            "34 0.008055272958321825\n",
            "35 0.0078037906544908995\n",
            "36 0.0075668009269440105\n",
            "37 0.007343109869572515\n",
            "38 0.007131649857963749\n",
            "39 0.006931463391060077\n",
            "40 0.0067416893410372405\n",
            "41 0.006561551204140868\n",
            "42 0.006390347021887489\n",
            "43 0.006227440702871377\n",
            "44 0.006072254523966365\n",
            "45 0.005924262628663435\n",
            "46 0.005782985371701349\n",
            "47 0.005647984384613036\n",
            "48 0.0055188582575459106\n",
            "49 0.005395238749679226\n"
          ]
        }
      ]
    },
    {
      "cell_type": "code",
      "source": [
        "ypred"
      ],
      "metadata": {
        "colab": {
          "base_uri": "https://localhost:8080/"
        },
        "id": "w0m7zUtOsUYW",
        "outputId": "59c63092-0f10-4e64-dd24-f99efb51b71c"
      },
      "execution_count": 1408,
      "outputs": [
        {
          "output_type": "execute_result",
          "data": {
            "text/plain": [
              "[Value  0.9687320541636545,\n",
              " Value  -0.9760660542310255,\n",
              " Value  -0.954605843986986,\n",
              " Value  0.9577614967991464]"
            ]
          },
          "metadata": {},
          "execution_count": 1408
        }
      ]
    }
  ]
}